{
 "cells": [
  {
   "cell_type": "code",
   "execution_count": 15,
   "id": "1fbdae0c-92e9-432e-a1f5-f53a9de72a95",
   "metadata": {},
   "outputs": [
    {
     "name": "stdout",
     "output_type": "stream",
     "text": [
      "Enqueueing the number to the list: deque([1, 2, 3, 4, 5])\n",
      "popping the left number to the list: deque([2, 3, 4, 5])\n"
     ]
    }
   ],
   "source": [
    "\n",
    "# 1. Why might you choose a deque from the collections module to implement a queue instead of using a \n",
    "\n",
    "#  regular Python list?\n",
    "\n",
    "from collections import deque as dq\n",
    "\n",
    "pr = 1,2,3,4\n",
    "c = dq(pr)\n",
    "c.append(5)\n",
    "print(f\"Enqueueing the number to the list: {c}\")\n",
    "c.popleft()\n",
    "print(f\"popping the left number to the list: {c}\")"
   ]
  },
  {
   "cell_type": "code",
   "execution_count": 18,
   "id": "33342c16-b033-49e0-a9a5-7bcde2ee1430",
   "metadata": {},
   "outputs": [
    {
     "name": "stdout",
     "output_type": "stream",
     "text": [
      "The stack method follows L.I.F.O.(Last In First Out) which use the last element and it becomes the first one to remove.\n",
      "\n",
      "Stacking a book:\n",
      "In this we use to over-lap each book one-after-another when we put last book at the top, that last book only becomes the first book to be removed.\n"
     ]
    }
   ],
   "source": [
    "\n",
    "# 2.  Can you explain a real-world scenario where using a stack would be a more practical choice than a list for \n",
    "\n",
    "#  data storage and retrieval?\n",
    "\n",
    "print(\"The stack method follows L.I.F.O.(Last In First Out) which use the last element and it becomes the first one to remove.\")\n",
    "\n",
    "#A real life example:\n",
    "\n",
    "print(\"\\nStacking a book:\\nIn this we use to over-lap each book one-after-another when we put last book at the top, that last book only becomes the first book to be removed.\")"
   ]
  },
  {
   "cell_type": "code",
   "execution_count": 31,
   "id": "a3a840e8-8fe4-477b-ac0f-c1eabb3aaca0",
   "metadata": {},
   "outputs": [
    {
     "name": "stdout",
     "output_type": "stream",
     "text": [
      "Sets in Python are unordered collections of unique elements. They do not guarantee a certain order of elements.\n",
      "Union/Combination of Datasets: {1, 2, 3, 4, 5, 6, 7, 8, 9, 10}\n",
      "Common Intersection of Datasets: {2}\n",
      "Duplicate elements are not allowed in sets: {'Devnath', 'Mirnal', 1}\n"
     ]
    }
   ],
   "source": [
    "\n",
    "# 3. What is the primary advantage of using sets in Python, and in what type of problem-solving scenarios are \n",
    "\n",
    "#  they most useful?\n",
    "\n",
    "#Sets are important in many following ways\n",
    "\n",
    "print(\"Sets in Python are unordered collections of unique elements. They do not guarantee a certain order of elements.\")\n",
    "\n",
    "# the usage of sets and their mathematical operations\n",
    "dataset1 = {1, 2, 3, 4, 5}\n",
    "dataset2 = {2, 6, 7, 8, 9, 10}\n",
    "\n",
    "print(f\"Union/Combination of Datasets: {dataset1.union(dataset2)}\")\n",
    "print(f\"Common Intersection of Datasets: {dataset1.intersection(dataset2)}\")\n",
    "\n",
    "# the explanation about duplicates in sets\n",
    "ds1 = {\"Mirnal\", \"Devnath\", 1, 1}\n",
    "print(f\"Duplicate elements are not allowed in sets: {ds1}\")\n"
   ]
  },
  {
   "cell_type": "code",
   "execution_count": 1,
   "id": "9d9d7667-6b10-4708-b77b-cf1397ddeca0",
   "metadata": {},
   "outputs": [
    {
     "name": "stdout",
     "output_type": "stream",
     "text": [
      "1. Arrays use less memory compared to lists, making them more suitable for large datasets.\n",
      "2.Arrays offer better performance for numerical computations, especially when using numerical libraries like NumPy.\n",
      "3.Arrays provide specialized functionality for numerical operations.\n",
      "4.Arrays are compatible with popular numerical libraries like NumPy, facilitating integration and access to optimized algorithms.\n",
      "5.Arrays enforce a specific data type for elements, ensuring consistency and reducing erros in numerical computations.\n"
     ]
    }
   ],
   "source": [
    "\n",
    "# 4. When might you choose to use an array instead of a list for storing numerical data in Python? What \n",
    "\n",
    "#  benefits do arrays offer in this context?\n",
    "\n",
    "print(\"1. Arrays use less memory compared to lists, making them more suitable for large datasets.\\n2.Arrays offer better performance for numerical computations, especially when using numerical libraries like NumPy.\\n3.Arrays provide specialized functionality for numerical operations.\\n4.Arrays are compatible with popular numerical libraries like NumPy, facilitating integration and access to optimized algorithms.\\n5.Arrays enforce a specific data type for elements, ensuring consistency and reducing erros in numerical computations.\")"
   ]
  },
  {
   "cell_type": "code",
   "execution_count": null,
   "id": "dbd1479f-fb36-4ee6-b80e-941d980af7fa",
   "metadata": {},
   "outputs": [],
   "source": [
    "\n",
    "# 5. In Python, what's the primary difference between dictionaries and lists, and how does this difference \n",
    "\n",
    "#  impact their use cases in programming?\n",
    "\n",
    "print(\"Dictionaries uses set of key value pairs for defining any data type\\nWhile, list uses collection of elements of different data types.\")\n"
   ]
  }
 ],
 "metadata": {
  "kernelspec": {
   "display_name": "Python 3 (ipykernel)",
   "language": "python",
   "name": "python3"
  },
  "language_info": {
   "codemirror_mode": {
    "name": "ipython",
    "version": 3
   },
   "file_extension": ".py",
   "mimetype": "text/x-python",
   "name": "python",
   "nbconvert_exporter": "python",
   "pygments_lexer": "ipython3",
   "version": "3.10.8"
  }
 },
 "nbformat": 4,
 "nbformat_minor": 5
}
